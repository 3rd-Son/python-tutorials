{
 "cells": [
  {
   "cell_type": "code",
   "execution_count": 11,
   "metadata": {},
   "outputs": [],
   "source": [
    "import requests\n",
    "from bs4 import BeautifulSoup as bs"
   ]
  },
  {
   "cell_type": "code",
   "execution_count": 12,
   "metadata": {},
   "outputs": [],
   "source": [
    "with open('2nd-scrap.html', 'r') as f:\n",
    "    doc = bs(f,'html.parser')"
   ]
  },
  {
   "cell_type": "code",
   "execution_count": 13,
   "metadata": {},
   "outputs": [
    {
     "name": "stdout",
     "output_type": "stream",
     "text": [
      "<!DOCTYPE html>\n",
      "<html>\n",
      " <head>\n",
      "  <title>\n",
      "   Educational registration form\n",
      "  </title>\n",
      "  <link crossorigin=\"anonymous\" href=\"https://use.fontawesome.com/releases/v5.4.1/css/all.css\" integrity=\"sha384-5sAR7xN1Nv6T6+dT2mhtzEpVJvfS3NScPQTrOxhwjIuvcA67KV2R5Jz6kr4abQsz\" rel=\"stylesheet\"/>\n",
      "  <link href=\"https://fonts.googleapis.com/css?family=Roboto:300,400,500,700\" rel=\"stylesheet\"/>\n",
      "  <style>\n",
      "   html, body {\n",
      "      min-height: 100%;\n",
      "      }\n",
      "      body, div, form, input, select, p { \n",
      "      padding: 0;\n",
      "      margin: 0;\n",
      "      outline: none;\n",
      "      font-family: Roboto, Arial, sans-serif;\n",
      "      font-size: 16px;\n",
      "      color: #eee;\n",
      "      }\n",
      "      body {\n",
      "      background: url(\"/uploads/media/default/0001/01/b5edc1bad4dc8c20291c8394527cb2c5b43ee13c.jpeg\") no-repeat center;\n",
      "      background-size: cover;\n",
      "      }\n",
      "      h1, h2 {\n",
      "      text-transform: uppercase;\n",
      "      font-weight: 400;\n",
      "      }\n",
      "      h2 {\n",
      "      margin: 0 0 0 8px;\n",
      "      }\n",
      "      .main-block {\n",
      "      display: flex;\n",
      "      flex-direction: column;\n",
      "      justify-content: center;\n",
      "      align-items: center;\n",
      "      height: 100%;\n",
      "      padding: 25px;\n",
      "      background: rgba(0, 0, 0, 0.5); \n",
      "      }\n",
      "      .left-part, form {\n",
      "      padding: 25px;\n",
      "      }\n",
      "      .left-part {\n",
      "      text-align: center;\n",
      "      }\n",
      "      .fa-graduation-cap {\n",
      "      font-size: 72px;\n",
      "      }\n",
      "      form {\n",
      "      background: rgba(0, 0, 0, 0.7); \n",
      "      }\n",
      "      .title {\n",
      "      display: flex;\n",
      "      align-items: center;\n",
      "      margin-bottom: 20px;\n",
      "      }\n",
      "      .info {\n",
      "      display: flex;\n",
      "      flex-direction: column;\n",
      "      }\n",
      "      input, select {\n",
      "      padding: 5px;\n",
      "      margin-bottom: 30px;\n",
      "      background: transparent;\n",
      "      border: none;\n",
      "      border-bottom: 1px solid #eee;\n",
      "      }\n",
      "      input::placeholder {\n",
      "      color: #eee;\n",
      "      }\n",
      "      option:focus {\n",
      "      border: none;\n",
      "      }\n",
      "      option {\n",
      "      background: black; \n",
      "      border: none;\n",
      "      }\n",
      "      .checkbox input {\n",
      "      margin: 0 10px 0 0;\n",
      "      vertical-align: middle;\n",
      "      }\n",
      "      .checkbox a {\n",
      "      color: #26a9e0;\n",
      "      }\n",
      "      .checkbox a:hover {\n",
      "      color: #85d6de;\n",
      "      }\n",
      "      .btn-item, button {\n",
      "      padding: 10px 5px;\n",
      "      margin-top: 20px;\n",
      "      border-radius: 5px; \n",
      "      border: none;\n",
      "      background: #26a9e0; \n",
      "      text-decoration: none;\n",
      "      font-size: 15px;\n",
      "      font-weight: 400;\n",
      "      color: #fff;\n",
      "      }\n",
      "      .btn-item {\n",
      "      display: inline-block;\n",
      "      margin: 20px 5px 0;\n",
      "      }\n",
      "      button {\n",
      "      width: 100%;\n",
      "      }\n",
      "      button:hover, .btn-item:hover {\n",
      "      background: #85d6de;\n",
      "      }\n",
      "      @media (min-width: 568px) {\n",
      "      html, body {\n",
      "      height: 100%;\n",
      "      }\n",
      "      .main-block {\n",
      "      flex-direction: row;\n",
      "      height: calc(100% - 50px);\n",
      "      }\n",
      "      .left-part, form {\n",
      "      flex: 1;\n",
      "      height: auto;\n",
      "      }\n",
      "      }\n",
      "  </style>\n",
      " </head>\n",
      " <body>\n",
      "  <div class=\"main-block\">\n",
      "   <div class=\"left-part\">\n",
      "    <i class=\"fas fa-graduation-cap\">\n",
      "    </i>\n",
      "    <h1>\n",
      "     Register to our courses\n",
      "    </h1>\n",
      "    <p>\n",
      "     W3docs provides free learning materials for programming languages like HTML, CSS, Java Script, PHP etc.\n",
      "    </p>\n",
      "    <div class=\"btn-group\">\n",
      "     <a class=\"btn-item\" href=\"https://www.w3docs.com/learn-html.html\">\n",
      "      Learn HTML\n",
      "     </a>\n",
      "     <a class=\"btn-item\" href=\"https://www.w3docs.com/quiz/#\">\n",
      "      Select Quiz\n",
      "     </a>\n",
      "    </div>\n",
      "    $2345\n",
      "   </div>\n",
      "   <form action=\"/\">\n",
      "    <div class=\"title\">\n",
      "     <i class=\"fas fa-pencil-alt\">\n",
      "     </i>\n",
      "     <h2>\n",
      "      Register here\n",
      "     </h2>\n",
      "    </div>\n",
      "    $123\n",
      "    <div class=\"info\">\n",
      "     <input class=\"fname\" name=\"name\" placeholder=\"Full name\" type=\"text\"/>\n",
      "     <input name=\"name\" placeholder=\"Email\" type=\"text\"/>\n",
      "     <input name=\"name\" placeholder=\"Phone number\" type=\"text\"/>\n",
      "     <input name=\"name\" placeholder=\"Password\" type=\"password\"/>\n",
      "     <select>\n",
      "      <option selected=\"\" value=\"course-type\">\n",
      "       Course type*\n",
      "      </option>\n",
      "      <option value=\"short-courses\">\n",
      "       Short courses\n",
      "      </option>\n",
      "      <option value=\"featured-courses\">\n",
      "       Featured courses\n",
      "      </option>\n",
      "      <option value=\"undergraduate\">\n",
      "       Undergraduate\n",
      "      </option>\n",
      "      <option value=\"diploma\">\n",
      "       Diploma\n",
      "      </option>\n",
      "      <option value=\"certificate\">\n",
      "       Certificate\n",
      "      </option>\n",
      "      <option value=\"masters-degree\">\n",
      "       Masters degree\n",
      "      </option>\n",
      "      <option value=\"postgraduate\">\n",
      "       Postgraduate\n",
      "      </option>\n",
      "     </select>\n",
      "    </div>\n",
      "    <div class=\"checkbox\">\n",
      "     <input name=\"checkbox\" type=\"checkbox\"/>\n",
      "     <span>\n",
      "      I agree to the\n",
      "      <a href=\"https://www.w3docs.com/privacy-policy\">\n",
      "       Privacy Poalicy for W3Docs.\n",
      "      </a>\n",
      "     </span>\n",
      "    </div>\n",
      "    <button href=\"/\" type=\"submit\">\n",
      "     Submit\n",
      "    </button>\n",
      "   </form>\n",
      "  </div>\n",
      " </body>\n",
      "</html>\n"
     ]
    }
   ],
   "source": [
    "print(doc.prettify())"
   ]
  },
  {
   "attachments": {},
   "cell_type": "markdown",
   "metadata": {},
   "source": [
    "##### *To find all the option tags or any other tags we will use the find_all function*"
   ]
  },
  {
   "cell_type": "code",
   "execution_count": 14,
   "metadata": {},
   "outputs": [
    {
     "data": {
      "text/plain": [
       "[<option selected=\"\" value=\"course-type\">Course type*</option>,\n",
       " <option value=\"short-courses\">Short courses</option>,\n",
       " <option value=\"featured-courses\">Featured courses</option>,\n",
       " <option value=\"undergraduate\">Undergraduate</option>,\n",
       " <option value=\"diploma\">Diploma</option>,\n",
       " <option value=\"certificate\">Certificate</option>,\n",
       " <option value=\"masters-degree\">Masters degree</option>,\n",
       " <option value=\"postgraduate\">Postgraduate</option>]"
      ]
     },
     "execution_count": 14,
     "metadata": {},
     "output_type": "execute_result"
    }
   ],
   "source": [
    "results = doc.find_all('option')\n",
    "results"
   ]
  },
  {
   "cell_type": "code",
   "execution_count": 15,
   "metadata": {},
   "outputs": [
    {
     "data": {
      "text/plain": [
       "<option selected=\"\" value=\"course-type\">Course type*</option>"
      ]
     },
     "execution_count": 15,
     "metadata": {},
     "output_type": "execute_result"
    }
   ],
   "source": [
    "tag = doc.find('option')\n",
    "tag"
   ]
  },
  {
   "attachments": {},
   "cell_type": "markdown",
   "metadata": {},
   "source": [
    "##### *You can also change the content of an attribute by putting the attribute name as an index and assigning it a new value using the = sign*"
   ]
  },
  {
   "cell_type": "code",
   "execution_count": 16,
   "metadata": {},
   "outputs": [
    {
     "data": {
      "text/plain": [
       "<option selected=\"\" value=\"New value\">Course type*</option>"
      ]
     },
     "execution_count": 16,
     "metadata": {},
     "output_type": "execute_result"
    }
   ],
   "source": [
    "tag['value'] = 'New value' \n",
    "tag"
   ]
  },
  {
   "cell_type": "code",
   "execution_count": 17,
   "metadata": {},
   "outputs": [
    {
     "data": {
      "text/plain": [
       "<option selected=\"false\" value=\"New value\">Course type*</option>"
      ]
     },
     "execution_count": 17,
     "metadata": {},
     "output_type": "execute_result"
    }
   ],
   "source": [
    "tag['selected'] = 'false'\n",
    "tag"
   ]
  },
  {
   "attachments": {},
   "cell_type": "markdown",
   "metadata": {},
   "source": [
    "##### *You can add another attribute by using the method below, below we just added a color to it*"
   ]
  },
  {
   "cell_type": "code",
   "execution_count": 18,
   "metadata": {},
   "outputs": [
    {
     "data": {
      "text/plain": [
       "<option color=\"red\" selected=\"false\" value=\"New value\">Course type*</option>"
      ]
     },
     "execution_count": 18,
     "metadata": {},
     "output_type": "execute_result"
    }
   ],
   "source": [
    "tag['color'] = 'red'\n",
    "tag"
   ]
  },
  {
   "attachments": {},
   "cell_type": "markdown",
   "metadata": {},
   "source": [
    "##### *To see all the attributes and their values, you can use the .atts fuction*"
   ]
  },
  {
   "cell_type": "code",
   "execution_count": 21,
   "metadata": {},
   "outputs": [
    {
     "data": {
      "text/plain": [
       "{'value': 'New value', 'selected': 'false', 'color': 'red'}"
      ]
     },
     "execution_count": 21,
     "metadata": {},
     "output_type": "execute_result"
    }
   ],
   "source": [
    "attributes = tag.attrs\n",
    "attributes"
   ]
  },
  {
   "attachments": {},
   "cell_type": "markdown",
   "metadata": {},
   "source": [
    "##### *You can search for many tags at once by putting them in a list*"
   ]
  },
  {
   "cell_type": "code",
   "execution_count": 23,
   "metadata": {},
   "outputs": [
    {
     "data": {
      "text/plain": [
       "[<div class=\"main-block\">\n",
       " <div class=\"left-part\">\n",
       " <i class=\"fas fa-graduation-cap\"></i>\n",
       " <h1>Register to our courses</h1>\n",
       " <p>W3docs provides free learning materials for programming languages like HTML, CSS, Java Script, PHP etc.</p>\n",
       " <div class=\"btn-group\">\n",
       " <a class=\"btn-item\" href=\"https://www.w3docs.com/learn-html.html\">Learn HTML</a>\n",
       " <a class=\"btn-item\" href=\"https://www.w3docs.com/quiz/#\">Select Quiz</a>\n",
       " </div>\n",
       "         $2345\n",
       "       </div>\n",
       " <form action=\"/\">\n",
       " <div class=\"title\">\n",
       " <i class=\"fas fa-pencil-alt\"></i>\n",
       " <h2>Register here</h2>\n",
       " </div>\n",
       "         $123\n",
       "         <div class=\"info\">\n",
       " <input class=\"fname\" name=\"name\" placeholder=\"Full name\" type=\"text\"/>\n",
       " <input name=\"name\" placeholder=\"Email\" type=\"text\"/>\n",
       " <input name=\"name\" placeholder=\"Phone number\" type=\"text\"/>\n",
       " <input name=\"name\" placeholder=\"Password\" type=\"password\"/>\n",
       " <select>\n",
       " <option color=\"red\" selected=\"false\" value=\"New value\">Course type*</option>\n",
       " <option value=\"short-courses\">Short courses</option>\n",
       " <option value=\"featured-courses\">Featured courses</option>\n",
       " <option value=\"undergraduate\">Undergraduate</option>\n",
       " <option value=\"diploma\">Diploma</option>\n",
       " <option value=\"certificate\">Certificate</option>\n",
       " <option value=\"masters-degree\">Masters degree</option>\n",
       " <option value=\"postgraduate\">Postgraduate</option>\n",
       " </select>\n",
       " </div>\n",
       " <div class=\"checkbox\">\n",
       " <input name=\"checkbox\" type=\"checkbox\"/><span>I agree to the <a href=\"https://www.w3docs.com/privacy-policy\">Privacy Poalicy for W3Docs.</a></span>\n",
       " </div>\n",
       " <button href=\"/\" type=\"submit\">Submit</button>\n",
       " </form>\n",
       " </div>,\n",
       " <div class=\"left-part\">\n",
       " <i class=\"fas fa-graduation-cap\"></i>\n",
       " <h1>Register to our courses</h1>\n",
       " <p>W3docs provides free learning materials for programming languages like HTML, CSS, Java Script, PHP etc.</p>\n",
       " <div class=\"btn-group\">\n",
       " <a class=\"btn-item\" href=\"https://www.w3docs.com/learn-html.html\">Learn HTML</a>\n",
       " <a class=\"btn-item\" href=\"https://www.w3docs.com/quiz/#\">Select Quiz</a>\n",
       " </div>\n",
       "         $2345\n",
       "       </div>,\n",
       " <h1>Register to our courses</h1>,\n",
       " <p>W3docs provides free learning materials for programming languages like HTML, CSS, Java Script, PHP etc.</p>,\n",
       " <div class=\"btn-group\">\n",
       " <a class=\"btn-item\" href=\"https://www.w3docs.com/learn-html.html\">Learn HTML</a>\n",
       " <a class=\"btn-item\" href=\"https://www.w3docs.com/quiz/#\">Select Quiz</a>\n",
       " </div>,\n",
       " <div class=\"title\">\n",
       " <i class=\"fas fa-pencil-alt\"></i>\n",
       " <h2>Register here</h2>\n",
       " </div>,\n",
       " <div class=\"info\">\n",
       " <input class=\"fname\" name=\"name\" placeholder=\"Full name\" type=\"text\"/>\n",
       " <input name=\"name\" placeholder=\"Email\" type=\"text\"/>\n",
       " <input name=\"name\" placeholder=\"Phone number\" type=\"text\"/>\n",
       " <input name=\"name\" placeholder=\"Password\" type=\"password\"/>\n",
       " <select>\n",
       " <option color=\"red\" selected=\"false\" value=\"New value\">Course type*</option>\n",
       " <option value=\"short-courses\">Short courses</option>\n",
       " <option value=\"featured-courses\">Featured courses</option>\n",
       " <option value=\"undergraduate\">Undergraduate</option>\n",
       " <option value=\"diploma\">Diploma</option>\n",
       " <option value=\"certificate\">Certificate</option>\n",
       " <option value=\"masters-degree\">Masters degree</option>\n",
       " <option value=\"postgraduate\">Postgraduate</option>\n",
       " </select>\n",
       " </div>,\n",
       " <div class=\"checkbox\">\n",
       " <input name=\"checkbox\" type=\"checkbox\"/><span>I agree to the <a href=\"https://www.w3docs.com/privacy-policy\">Privacy Poalicy for W3Docs.</a></span>\n",
       " </div>]"
      ]
     },
     "execution_count": 23,
     "metadata": {},
     "output_type": "execute_result"
    }
   ],
   "source": [
    "many_tags = doc.find_all(['p', 'div', 'h1'])\n",
    "many_tags"
   ]
  },
  {
   "cell_type": "code",
   "execution_count": null,
   "metadata": {},
   "outputs": [],
   "source": []
  }
 ],
 "metadata": {
  "kernelspec": {
   "display_name": "myenv",
   "language": "python",
   "name": "python3"
  },
  "language_info": {
   "codemirror_mode": {
    "name": "ipython",
    "version": 3
   },
   "file_extension": ".py",
   "mimetype": "text/x-python",
   "name": "python",
   "nbconvert_exporter": "python",
   "pygments_lexer": "ipython3",
   "version": "3.10.9"
  },
  "orig_nbformat": 4
 },
 "nbformat": 4,
 "nbformat_minor": 2
}
