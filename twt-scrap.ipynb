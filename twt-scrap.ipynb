{
 "cells": [
  {
   "cell_type": "code",
   "execution_count": 26,
   "metadata": {},
   "outputs": [],
   "source": [
    "import requests\n",
    "import re\n",
    "from bs4 import BeautifulSoup as bs"
   ]
  },
  {
   "cell_type": "code",
   "execution_count": 27,
   "metadata": {},
   "outputs": [
    {
     "name": "stdout",
     "output_type": "stream",
     "text": [
      "<html>\n",
      " <head>\n",
      "  <title>\n",
      "   Your Title Here\n",
      "  </title>\n",
      " </head>\n",
      " <body bgcolor=\"FFFFFF\">\n",
      "  <center>\n",
      "   <img align=\"BOTTOM\" src=\"clouds.jpg\"/>\n",
      "  </center>\n",
      "  <hr/>\n",
      "  <a href=\"http://somegreatsite.com\">\n",
      "   Link Name\n",
      "  </a>\n",
      "  is a link to another nifty site\n",
      "  <h1>\n",
      "   This is a Header\n",
      "  </h1>\n",
      "  <h2>\n",
      "   This is a Medium Header\n",
      "  </h2>\n",
      "  Send me mail at\n",
      "  <a href=\"mailto:support@yourcompany.com\">\n",
      "   support@yourcompany.com\n",
      "  </a>\n",
      "  .\n",
      "  <p>\n",
      "   This is a new paragraph!\n",
      "   <p>\n",
      "    <b color=\"red\">\n",
      "     This is a new paragraph!\n",
      "    </b>\n",
      "    <br/>\n",
      "    <b>\n",
      "     <i>\n",
      "      This is a new sentence without a paragraph break, in bold italics.\n",
      "     </i>\n",
      "    </b>\n",
      "    <hr/>\n",
      "   </p>\n",
      "  </p>\n",
      " </body>\n",
      "</html>\n",
      "\n"
     ]
    }
   ],
   "source": [
    "with open('scrap.html', \"r\") as f:\n",
    "    doc = bs(f,'html.parser')\n",
    "\n",
    "print(doc.prettify())\n",
    "    "
   ]
  },
  {
   "attachments": {},
   "cell_type": "markdown",
   "metadata": {},
   "source": [
    "##### *To view the first h2 or any tag like title or body, you can directly use doc.title or doc.h2 or doc.h1 or doc.body, all depending on what you want to view*"
   ]
  },
  {
   "cell_type": "code",
   "execution_count": 28,
   "metadata": {},
   "outputs": [
    {
     "data": {
      "text/plain": [
       "<h2>This is a Medium Header</h2>"
      ]
     },
     "execution_count": 28,
     "metadata": {},
     "output_type": "execute_result"
    }
   ],
   "source": [
    "tag = doc.h2\n",
    "tag"
   ]
  },
  {
   "attachments": {},
   "cell_type": "markdown",
   "metadata": {},
   "source": [
    "##### *To view the text in the tag, you can you use .string*"
   ]
  },
  {
   "cell_type": "code",
   "execution_count": 29,
   "metadata": {},
   "outputs": [
    {
     "data": {
      "text/plain": [
       "'This is a Medium Header'"
      ]
     },
     "execution_count": 29,
     "metadata": {},
     "output_type": "execute_result"
    }
   ],
   "source": [
    "tag.string "
   ]
  },
  {
   "attachments": {},
   "cell_type": "markdown",
   "metadata": {},
   "source": [
    "##### *You cam also change the text in the tag by assigning it to another text using =*"
   ]
  },
  {
   "cell_type": "code",
   "execution_count": 30,
   "metadata": {},
   "outputs": [
    {
     "data": {
      "text/plain": [
       "'HELLO'"
      ]
     },
     "execution_count": 30,
     "metadata": {},
     "output_type": "execute_result"
    }
   ],
   "source": [
    "tag.string = 'HELLO'\n",
    "tag.string"
   ]
  },
  {
   "attachments": {},
   "cell_type": "markdown",
   "metadata": {},
   "source": [
    "#### *To find all tags partaining to a particular tag, eg to find all links we use find_all('a'), same with other tags*"
   ]
  },
  {
   "cell_type": "code",
   "execution_count": 35,
   "metadata": {},
   "outputs": [
    {
     "data": {
      "text/plain": [
       "[<p> This is a new paragraph!\n",
       " \n",
       " <p> <b color=\"red\">This is a new paragraph!</b>\n",
       " <br/> <b><i>This is a new sentence without a paragraph break, in bold italics.</i></b>\n",
       " <hr/>\n",
       " </p></p>,\n",
       " <p> <b color=\"red\">This is a new paragraph!</b>\n",
       " <br/> <b><i>This is a new sentence without a paragraph break, in bold italics.</i></b>\n",
       " <hr/>\n",
       " </p>]"
      ]
     },
     "execution_count": 35,
     "metadata": {},
     "output_type": "execute_result"
    }
   ],
   "source": [
    "paragraphs = doc.find_all(\"p\")\n",
    "paragraphs"
   ]
  },
  {
   "attachments": {},
   "cell_type": "markdown",
   "metadata": {},
   "source": [
    "##### *You can access a specific tag using the index, eg you can access the first paragraph using [0] and the second using [1]*"
   ]
  },
  {
   "cell_type": "code",
   "execution_count": 36,
   "metadata": {},
   "outputs": [
    {
     "data": {
      "text/plain": [
       "<p> This is a new paragraph!\n",
       "\n",
       "<p> <b color=\"red\">This is a new paragraph!</b>\n",
       "<br/> <b><i>This is a new sentence without a paragraph break, in bold italics.</i></b>\n",
       "<hr/>\n",
       "</p></p>"
      ]
     },
     "execution_count": 36,
     "metadata": {},
     "output_type": "execute_result"
    }
   ],
   "source": [
    "first_paragraph = paragraphs[0]\n",
    "first_paragraph"
   ]
  },
  {
   "attachments": {},
   "cell_type": "markdown",
   "metadata": {},
   "source": [
    "##### *You can also find the bold tags in the first paragraph*"
   ]
  },
  {
   "cell_type": "code",
   "execution_count": 38,
   "metadata": {},
   "outputs": [
    {
     "data": {
      "text/plain": [
       "[<b color=\"red\">This is a new paragraph!</b>,\n",
       " <b><i>This is a new sentence without a paragraph break, in bold italics.</i></b>]"
      ]
     },
     "execution_count": 38,
     "metadata": {},
     "output_type": "execute_result"
    }
   ],
   "source": [
    "bold_of_first_paragraph = first_paragraph.find_all('b')\n",
    "bold_of_first_paragraph "
   ]
  },
  {
   "attachments": {},
   "cell_type": "markdown",
   "metadata": {},
   "source": [
    "##### *You can also find the italics in the first paragraph*"
   ]
  },
  {
   "cell_type": "code",
   "execution_count": 42,
   "metadata": {},
   "outputs": [
    {
     "data": {
      "text/plain": [
       "<i>This is a new sentence without a paragraph break, in bold italics.</i>"
      ]
     },
     "execution_count": 42,
     "metadata": {},
     "output_type": "execute_result"
    }
   ],
   "source": [
    "italics_of_first_paragraph = first_paragraph.find('i')\n",
    "italics_of_first_paragraph "
   ]
  },
  {
   "cell_type": "code",
   "execution_count": 43,
   "metadata": {},
   "outputs": [
    {
     "data": {
      "text/plain": [
       "'This is a new sentence without a paragraph break, in bold italics.'"
      ]
     },
     "execution_count": 43,
     "metadata": {},
     "output_type": "execute_result"
    }
   ],
   "source": [
    "text_of_italics_first_paragraph = italics_of_first_paragraph.string\n",
    "text_of_italics_first_paragraph "
   ]
  },
  {
   "cell_type": "code",
   "execution_count": null,
   "metadata": {},
   "outputs": [],
   "source": []
  }
 ],
 "metadata": {
  "kernelspec": {
   "display_name": "myenv",
   "language": "python",
   "name": "python3"
  },
  "language_info": {
   "codemirror_mode": {
    "name": "ipython",
    "version": 3
   },
   "file_extension": ".py",
   "mimetype": "text/x-python",
   "name": "python",
   "nbconvert_exporter": "python",
   "pygments_lexer": "ipython3",
   "version": "3.10.9"
  },
  "orig_nbformat": 4
 },
 "nbformat": 4,
 "nbformat_minor": 2
}
